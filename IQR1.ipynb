{
 "cells": [
  {
   "cell_type": "code",
   "execution_count": 1,
   "id": "e08e6130-5da5-4542-8590-4548f8b93a0d",
   "metadata": {},
   "outputs": [],
   "source": [
    "import pandas as pd\n",
    "import numpy as np"
   ]
  },
  {
   "cell_type": "code",
   "execution_count": 2,
   "id": "31bfb5c3-f68b-4138-ab25-dbff1ab7f8b3",
   "metadata": {},
   "outputs": [],
   "source": [
    "dataset=pd.read_csv(\"Placement.csv\")"
   ]
  },
  {
   "cell_type": "code",
   "execution_count": 3,
   "id": "4f3d5142-6bd0-42fe-82b5-ae073616930d",
   "metadata": {},
   "outputs": [
    {
     "data": {
      "text/html": [
       "<div>\n",
       "<style scoped>\n",
       "    .dataframe tbody tr th:only-of-type {\n",
       "        vertical-align: middle;\n",
       "    }\n",
       "\n",
       "    .dataframe tbody tr th {\n",
       "        vertical-align: top;\n",
       "    }\n",
       "\n",
       "    .dataframe thead th {\n",
       "        text-align: right;\n",
       "    }\n",
       "</style>\n",
       "<table border=\"1\" class=\"dataframe\">\n",
       "  <thead>\n",
       "    <tr style=\"text-align: right;\">\n",
       "      <th></th>\n",
       "      <th>sl_no</th>\n",
       "      <th>ssc_p</th>\n",
       "      <th>hsc_p</th>\n",
       "      <th>degree_p</th>\n",
       "      <th>etest_p</th>\n",
       "      <th>mba_p</th>\n",
       "      <th>salary</th>\n",
       "    </tr>\n",
       "  </thead>\n",
       "  <tbody>\n",
       "    <tr>\n",
       "      <th>count</th>\n",
       "      <td>215.000000</td>\n",
       "      <td>215.000000</td>\n",
       "      <td>215.000000</td>\n",
       "      <td>215.000000</td>\n",
       "      <td>215.000000</td>\n",
       "      <td>215.000000</td>\n",
       "      <td>148.000000</td>\n",
       "    </tr>\n",
       "    <tr>\n",
       "      <th>mean</th>\n",
       "      <td>108.000000</td>\n",
       "      <td>67.303395</td>\n",
       "      <td>66.333163</td>\n",
       "      <td>66.370186</td>\n",
       "      <td>72.100558</td>\n",
       "      <td>62.278186</td>\n",
       "      <td>288655.405405</td>\n",
       "    </tr>\n",
       "    <tr>\n",
       "      <th>std</th>\n",
       "      <td>62.209324</td>\n",
       "      <td>10.827205</td>\n",
       "      <td>10.897509</td>\n",
       "      <td>7.358743</td>\n",
       "      <td>13.275956</td>\n",
       "      <td>5.833385</td>\n",
       "      <td>93457.452420</td>\n",
       "    </tr>\n",
       "    <tr>\n",
       "      <th>min</th>\n",
       "      <td>1.000000</td>\n",
       "      <td>40.890000</td>\n",
       "      <td>37.000000</td>\n",
       "      <td>50.000000</td>\n",
       "      <td>50.000000</td>\n",
       "      <td>51.210000</td>\n",
       "      <td>200000.000000</td>\n",
       "    </tr>\n",
       "    <tr>\n",
       "      <th>25%</th>\n",
       "      <td>54.500000</td>\n",
       "      <td>60.600000</td>\n",
       "      <td>60.900000</td>\n",
       "      <td>61.000000</td>\n",
       "      <td>60.000000</td>\n",
       "      <td>57.945000</td>\n",
       "      <td>240000.000000</td>\n",
       "    </tr>\n",
       "    <tr>\n",
       "      <th>50%</th>\n",
       "      <td>108.000000</td>\n",
       "      <td>67.000000</td>\n",
       "      <td>65.000000</td>\n",
       "      <td>66.000000</td>\n",
       "      <td>71.000000</td>\n",
       "      <td>62.000000</td>\n",
       "      <td>265000.000000</td>\n",
       "    </tr>\n",
       "    <tr>\n",
       "      <th>75%</th>\n",
       "      <td>161.500000</td>\n",
       "      <td>75.700000</td>\n",
       "      <td>73.000000</td>\n",
       "      <td>72.000000</td>\n",
       "      <td>83.500000</td>\n",
       "      <td>66.255000</td>\n",
       "      <td>300000.000000</td>\n",
       "    </tr>\n",
       "    <tr>\n",
       "      <th>max</th>\n",
       "      <td>215.000000</td>\n",
       "      <td>89.400000</td>\n",
       "      <td>97.700000</td>\n",
       "      <td>91.000000</td>\n",
       "      <td>98.000000</td>\n",
       "      <td>77.890000</td>\n",
       "      <td>940000.000000</td>\n",
       "    </tr>\n",
       "  </tbody>\n",
       "</table>\n",
       "</div>"
      ],
      "text/plain": [
       "            sl_no       ssc_p       hsc_p    degree_p     etest_p       mba_p  \\\n",
       "count  215.000000  215.000000  215.000000  215.000000  215.000000  215.000000   \n",
       "mean   108.000000   67.303395   66.333163   66.370186   72.100558   62.278186   \n",
       "std     62.209324   10.827205   10.897509    7.358743   13.275956    5.833385   \n",
       "min      1.000000   40.890000   37.000000   50.000000   50.000000   51.210000   \n",
       "25%     54.500000   60.600000   60.900000   61.000000   60.000000   57.945000   \n",
       "50%    108.000000   67.000000   65.000000   66.000000   71.000000   62.000000   \n",
       "75%    161.500000   75.700000   73.000000   72.000000   83.500000   66.255000   \n",
       "max    215.000000   89.400000   97.700000   91.000000   98.000000   77.890000   \n",
       "\n",
       "              salary  \n",
       "count     148.000000  \n",
       "mean   288655.405405  \n",
       "std     93457.452420  \n",
       "min    200000.000000  \n",
       "25%    240000.000000  \n",
       "50%    265000.000000  \n",
       "75%    300000.000000  \n",
       "max    940000.000000  "
      ]
     },
     "execution_count": 3,
     "metadata": {},
     "output_type": "execute_result"
    }
   ],
   "source": [
    "dataset.describe()"
   ]
  },
  {
   "cell_type": "code",
   "execution_count": 4,
   "id": "21663e25-2e54-4be7-9452-f59165a45ebe",
   "metadata": {},
   "outputs": [
    {
     "name": "stdout",
     "output_type": "stream",
     "text": [
      "<class 'pandas.core.frame.DataFrame'>\n",
      "RangeIndex: 215 entries, 0 to 214\n",
      "Data columns (total 15 columns):\n",
      " #   Column          Non-Null Count  Dtype  \n",
      "---  ------          --------------  -----  \n",
      " 0   sl_no           215 non-null    int64  \n",
      " 1   gender          215 non-null    object \n",
      " 2   ssc_p           215 non-null    float64\n",
      " 3   ssc_b           215 non-null    object \n",
      " 4   hsc_p           215 non-null    float64\n",
      " 5   hsc_b           215 non-null    object \n",
      " 6   hsc_s           215 non-null    object \n",
      " 7   degree_p        215 non-null    float64\n",
      " 8   degree_t        215 non-null    object \n",
      " 9   workex          215 non-null    object \n",
      " 10  etest_p         215 non-null    float64\n",
      " 11  specialisation  215 non-null    object \n",
      " 12  mba_p           215 non-null    float64\n",
      " 13  status          215 non-null    object \n",
      " 14  salary          148 non-null    float64\n",
      "dtypes: float64(6), int64(1), object(8)\n",
      "memory usage: 25.3+ KB\n"
     ]
    }
   ],
   "source": [
    "dataset.info()"
   ]
  },
  {
   "cell_type": "code",
   "execution_count": 5,
   "id": "c2699dde-93bf-4eff-988e-193b29e71790",
   "metadata": {},
   "outputs": [
    {
     "data": {
      "text/plain": [
       "sl_no               int64\n",
       "gender             object\n",
       "ssc_p             float64\n",
       "ssc_b              object\n",
       "hsc_p             float64\n",
       "hsc_b              object\n",
       "hsc_s              object\n",
       "degree_p          float64\n",
       "degree_t           object\n",
       "workex             object\n",
       "etest_p           float64\n",
       "specialisation     object\n",
       "mba_p             float64\n",
       "status             object\n",
       "salary            float64\n",
       "dtype: object"
      ]
     },
     "execution_count": 5,
     "metadata": {},
     "output_type": "execute_result"
    }
   ],
   "source": [
    "dataset.dtypes"
   ]
  },
  {
   "cell_type": "code",
   "execution_count": 6,
   "id": "248af469-f338-4a08-a244-78ffe40e3839",
   "metadata": {},
   "outputs": [],
   "source": [
    "def quanQual():\n",
    "    qual=[]\n",
    "    quan=[]\n",
    "    for columnName in dataset.columns:\n",
    "        if (dataset[columnName].dtype=='O'):\n",
    "            qual.append(columnName)\n",
    "        else:\n",
    "            quan.append(columnName)\n",
    "    return qual,quan\n",
    "        \n",
    "qual,quan=quanQual()"
   ]
  },
  {
   "cell_type": "code",
   "execution_count": 7,
   "id": "8502d11b-d30f-4e83-9d90-4144e56fd4d4",
   "metadata": {},
   "outputs": [
    {
     "data": {
      "text/plain": [
       "['sl_no', 'ssc_p', 'hsc_p', 'degree_p', 'etest_p', 'mba_p', 'salary']"
      ]
     },
     "execution_count": 7,
     "metadata": {},
     "output_type": "execute_result"
    }
   ],
   "source": [
    "quan"
   ]
  },
  {
   "cell_type": "code",
   "execution_count": 8,
   "id": "a2efe374-6ccc-4554-a0db-915a6e1ab41b",
   "metadata": {},
   "outputs": [],
   "source": [
    "import pandas as pd\n",
    "import numpy as np\n",
    "\n",
    "def descriptive(dataset, quan):\n",
    "    # Create an empty DataFrame with specified rows (index) and columns\n",
    "    descriptive = pd.DataFrame(index=[\"Mean\", \"Median\", \"Mode\", \"Q1:25%\", \"Q2:50%\", \"Q3:75%\", \"90%\", \"Q4:100%\", \n",
    "                                      \"IQR\", \"1.5Rule\", \"LesserOutlier\", \"GreaterOutlier\", \"Min\", \"Max\"], \n",
    "                               columns=quan)\n",
    "    \n",
    "    # Precompute dataset.describe() to avoid redundant calculations\n",
    "    summary = dataset[quan].describe()\n",
    "    \n",
    "    for columnName in quan:\n",
    "        # Compute descriptive statistics\n",
    "        descriptive.loc[\"Mean\", columnName] = dataset[columnName].mean()\n",
    "        descriptive.loc[\"Median\", columnName] = dataset[columnName].median()\n",
    "        descriptive.loc[\"Mode\", columnName] = dataset[columnName].mode().iloc[0]  # Safely get the first mode\n",
    "        descriptive.loc[\"Q1:25%\", columnName] = summary.at[\"25%\", columnName]\n",
    "        descriptive.loc[\"Q2:50%\", columnName] = summary.at[\"50%\", columnName]\n",
    "        descriptive.loc[\"Q3:75%\", columnName] = summary.at[\"75%\", columnName]\n",
    "        descriptive.loc[\"90%\", columnName] = np.percentile(dataset[columnName], 90)\n",
    "        descriptive.loc[\"Q4:100%\", columnName] = summary.at[\"max\", columnName]\n",
    "        descriptive.loc[\"Min\", columnName] = dataset[columnName].min()\n",
    "        descriptive.loc[\"Max\", columnName] = dataset[columnName].max()\n",
    "        \n",
    "        # Compute IQR and outlier thresholds\n",
    "        IQR = descriptive.loc[\"Q3:75%\", columnName] - descriptive.loc[\"Q1:25%\", columnName]\n",
    "        descriptive.loc[\"IQR\", columnName] = IQR\n",
    "        descriptive.loc[\"1.5Rule\", columnName] = 1.5 * IQR\n",
    "        descriptive.loc[\"LesserOutlier\", columnName] = descriptive.loc[\"Q1:25%\", columnName] - descriptive.loc[\"1.5Rule\", columnName]\n",
    "        descriptive.loc[\"GreaterOutlier\", columnName] = descriptive.loc[\"Q3:75%\", columnName] + descriptive.loc[\"1.5Rule\", columnName]\n",
    "    \n",
    "    return descriptive\n",
    "\n",
    "descriptive=descriptive(dataset, quan)"
   ]
  },
  {
   "cell_type": "code",
   "execution_count": 9,
   "id": "e836ba56-99f9-48a6-9ecd-159f161e0612",
   "metadata": {},
   "outputs": [
    {
     "data": {
      "text/html": [
       "<div>\n",
       "<style scoped>\n",
       "    .dataframe tbody tr th:only-of-type {\n",
       "        vertical-align: middle;\n",
       "    }\n",
       "\n",
       "    .dataframe tbody tr th {\n",
       "        vertical-align: top;\n",
       "    }\n",
       "\n",
       "    .dataframe thead th {\n",
       "        text-align: right;\n",
       "    }\n",
       "</style>\n",
       "<table border=\"1\" class=\"dataframe\">\n",
       "  <thead>\n",
       "    <tr style=\"text-align: right;\">\n",
       "      <th></th>\n",
       "      <th>sl_no</th>\n",
       "      <th>ssc_p</th>\n",
       "      <th>hsc_p</th>\n",
       "      <th>degree_p</th>\n",
       "      <th>etest_p</th>\n",
       "      <th>mba_p</th>\n",
       "      <th>salary</th>\n",
       "    </tr>\n",
       "  </thead>\n",
       "  <tbody>\n",
       "    <tr>\n",
       "      <th>Mean</th>\n",
       "      <td>108.0</td>\n",
       "      <td>67.303395</td>\n",
       "      <td>66.333163</td>\n",
       "      <td>66.370186</td>\n",
       "      <td>72.100558</td>\n",
       "      <td>62.278186</td>\n",
       "      <td>288655.405405</td>\n",
       "    </tr>\n",
       "    <tr>\n",
       "      <th>Median</th>\n",
       "      <td>108.0</td>\n",
       "      <td>67.0</td>\n",
       "      <td>65.0</td>\n",
       "      <td>66.0</td>\n",
       "      <td>71.0</td>\n",
       "      <td>62.0</td>\n",
       "      <td>265000.0</td>\n",
       "    </tr>\n",
       "    <tr>\n",
       "      <th>Mode</th>\n",
       "      <td>1</td>\n",
       "      <td>62.0</td>\n",
       "      <td>63.0</td>\n",
       "      <td>65.0</td>\n",
       "      <td>60.0</td>\n",
       "      <td>56.7</td>\n",
       "      <td>300000.0</td>\n",
       "    </tr>\n",
       "    <tr>\n",
       "      <th>Q1:25%</th>\n",
       "      <td>54.5</td>\n",
       "      <td>60.6</td>\n",
       "      <td>60.9</td>\n",
       "      <td>61.0</td>\n",
       "      <td>60.0</td>\n",
       "      <td>57.945</td>\n",
       "      <td>240000.0</td>\n",
       "    </tr>\n",
       "    <tr>\n",
       "      <th>Q2:50%</th>\n",
       "      <td>108.0</td>\n",
       "      <td>67.0</td>\n",
       "      <td>65.0</td>\n",
       "      <td>66.0</td>\n",
       "      <td>71.0</td>\n",
       "      <td>62.0</td>\n",
       "      <td>265000.0</td>\n",
       "    </tr>\n",
       "    <tr>\n",
       "      <th>Q3:75%</th>\n",
       "      <td>161.5</td>\n",
       "      <td>75.7</td>\n",
       "      <td>73.0</td>\n",
       "      <td>72.0</td>\n",
       "      <td>83.5</td>\n",
       "      <td>66.255</td>\n",
       "      <td>300000.0</td>\n",
       "    </tr>\n",
       "    <tr>\n",
       "      <th>90%</th>\n",
       "      <td>193.6</td>\n",
       "      <td>82.0</td>\n",
       "      <td>79.0</td>\n",
       "      <td>77.12</td>\n",
       "      <td>92.0</td>\n",
       "      <td>70.678</td>\n",
       "      <td>NaN</td>\n",
       "    </tr>\n",
       "    <tr>\n",
       "      <th>Q4:100%</th>\n",
       "      <td>215.0</td>\n",
       "      <td>89.4</td>\n",
       "      <td>97.7</td>\n",
       "      <td>91.0</td>\n",
       "      <td>98.0</td>\n",
       "      <td>77.89</td>\n",
       "      <td>940000.0</td>\n",
       "    </tr>\n",
       "    <tr>\n",
       "      <th>IQR</th>\n",
       "      <td>107.0</td>\n",
       "      <td>15.1</td>\n",
       "      <td>12.1</td>\n",
       "      <td>11.0</td>\n",
       "      <td>23.5</td>\n",
       "      <td>8.31</td>\n",
       "      <td>60000.0</td>\n",
       "    </tr>\n",
       "    <tr>\n",
       "      <th>1.5Rule</th>\n",
       "      <td>160.5</td>\n",
       "      <td>22.65</td>\n",
       "      <td>18.15</td>\n",
       "      <td>16.5</td>\n",
       "      <td>35.25</td>\n",
       "      <td>12.465</td>\n",
       "      <td>90000.0</td>\n",
       "    </tr>\n",
       "    <tr>\n",
       "      <th>LesserOutlier</th>\n",
       "      <td>-106.0</td>\n",
       "      <td>37.95</td>\n",
       "      <td>42.75</td>\n",
       "      <td>44.5</td>\n",
       "      <td>24.75</td>\n",
       "      <td>45.48</td>\n",
       "      <td>150000.0</td>\n",
       "    </tr>\n",
       "    <tr>\n",
       "      <th>GreaterOutlier</th>\n",
       "      <td>322.0</td>\n",
       "      <td>98.35</td>\n",
       "      <td>91.15</td>\n",
       "      <td>88.5</td>\n",
       "      <td>118.75</td>\n",
       "      <td>78.72</td>\n",
       "      <td>390000.0</td>\n",
       "    </tr>\n",
       "    <tr>\n",
       "      <th>Min</th>\n",
       "      <td>1</td>\n",
       "      <td>40.89</td>\n",
       "      <td>37.0</td>\n",
       "      <td>50.0</td>\n",
       "      <td>50.0</td>\n",
       "      <td>51.21</td>\n",
       "      <td>200000.0</td>\n",
       "    </tr>\n",
       "    <tr>\n",
       "      <th>Max</th>\n",
       "      <td>215</td>\n",
       "      <td>89.4</td>\n",
       "      <td>97.7</td>\n",
       "      <td>91.0</td>\n",
       "      <td>98.0</td>\n",
       "      <td>77.89</td>\n",
       "      <td>940000.0</td>\n",
       "    </tr>\n",
       "  </tbody>\n",
       "</table>\n",
       "</div>"
      ],
      "text/plain": [
       "                sl_no      ssc_p      hsc_p   degree_p    etest_p      mba_p  \\\n",
       "Mean            108.0  67.303395  66.333163  66.370186  72.100558  62.278186   \n",
       "Median          108.0       67.0       65.0       66.0       71.0       62.0   \n",
       "Mode                1       62.0       63.0       65.0       60.0       56.7   \n",
       "Q1:25%           54.5       60.6       60.9       61.0       60.0     57.945   \n",
       "Q2:50%          108.0       67.0       65.0       66.0       71.0       62.0   \n",
       "Q3:75%          161.5       75.7       73.0       72.0       83.5     66.255   \n",
       "90%             193.6       82.0       79.0      77.12       92.0     70.678   \n",
       "Q4:100%         215.0       89.4       97.7       91.0       98.0      77.89   \n",
       "IQR             107.0       15.1       12.1       11.0       23.5       8.31   \n",
       "1.5Rule         160.5      22.65      18.15       16.5      35.25     12.465   \n",
       "LesserOutlier  -106.0      37.95      42.75       44.5      24.75      45.48   \n",
       "GreaterOutlier  322.0      98.35      91.15       88.5     118.75      78.72   \n",
       "Min                 1      40.89       37.0       50.0       50.0      51.21   \n",
       "Max               215       89.4       97.7       91.0       98.0      77.89   \n",
       "\n",
       "                       salary  \n",
       "Mean            288655.405405  \n",
       "Median               265000.0  \n",
       "Mode                 300000.0  \n",
       "Q1:25%               240000.0  \n",
       "Q2:50%               265000.0  \n",
       "Q3:75%               300000.0  \n",
       "90%                       NaN  \n",
       "Q4:100%              940000.0  \n",
       "IQR                   60000.0  \n",
       "1.5Rule               90000.0  \n",
       "LesserOutlier        150000.0  \n",
       "GreaterOutlier       390000.0  \n",
       "Min                  200000.0  \n",
       "Max                  940000.0  "
      ]
     },
     "execution_count": 9,
     "metadata": {},
     "output_type": "execute_result"
    }
   ],
   "source": [
    "descriptive"
   ]
  },
  {
   "cell_type": "code",
   "execution_count": 10,
   "id": "cdd8e3c7-1f67-4a68-a60a-47ae921caa95",
   "metadata": {},
   "outputs": [
    {
     "name": "stdout",
     "output_type": "stream",
     "text": [
      "Outliers\n"
     ]
    }
   ],
   "source": [
    "def Outliers(quan,descriptive):\n",
    "    Outliers=[]\n",
    "    for columnName in quan:\n",
    "        LesserOutlier=descriptive[columnName][\"LesserOutlier\"]\n",
    "        GreaterOutlier=descriptive[columnName][\"GreaterOutlier\"]\n",
    "        #if descriptive[columnName][\"Min\"]<descriptive[columnName][\"LesserOutlier\"]:\n",
    "        if descriptive[columnName][\"Min\"]<LesserOutlier:\n",
    "            print(\"Outliers\")\n",
    "            Outliers.append(columnName)\n",
    "        #if descriptive[columnName][\"Max\"]>descriptive[columnName][\"GreaterOutlier\"]:\n",
    "        if descriptive[columnName][\"Max\"]>GreaterOutlier:\n",
    "            Outliers.append(columnName)\n",
    "    return Outliers\n",
    "\n",
    "Outliers=Outliers(quan,descriptive)"
   ]
  },
  {
   "cell_type": "code",
   "execution_count": 11,
   "id": "84af5c97-ff3d-4a49-8835-415f48f51255",
   "metadata": {},
   "outputs": [
    {
     "data": {
      "text/plain": [
       "['hsc_p', 'hsc_p', 'degree_p', 'salary']"
      ]
     },
     "execution_count": 11,
     "metadata": {},
     "output_type": "execute_result"
    }
   ],
   "source": [
    "Outliers"
   ]
  },
  {
   "cell_type": "code",
   "execution_count": 17,
   "id": "ac57c25d-bb61-4682-a728-efbd49cd7edb",
   "metadata": {},
   "outputs": [],
   "source": [
    "def replaces(dataset,descriptive,Outliers):\n",
    "    for columnName in Outliers:\n",
    "        LesserOutlier=descriptive[columnName][\"LesserOutlier\"]\n",
    "        GreaterOutlier=descriptive[columnName][\"GreaterOutlier\"]\n",
    "        #dataset[columnName][dataset[columnName]<descriptive[columnName][\"LesserOutlier\"]]=descriptive[columnName][\"LesserOutlier\"]\n",
    "        #dataset[columnName][dataset[columnName]<LesserOutlier]=LesserOutlier\n",
    "        dataset.loc[dataset[columnName] < LesserOutlier, columnName] = LesserOutlier\n",
    "        #dataset[columnName][dataset[columnName]>descriptive[columnName][\"GreaterOutlier\"]]=descriptive[columnName][\"GreaterOutlier\"]\n",
    "        #dataset[columnName][dataset[columnName]>GreaterOutlier]=GreaterOutlier\n",
    "\n",
    "            \n",
    "        dataset.loc[dataset[columnName] > GreaterOutlier, columnName] = GreaterOutlier\n",
    "    return replaces\n",
    "    \n",
    "#replaces=replaces(dataset,description,Outliers)"
   ]
  },
  {
   "cell_type": "code",
   "execution_count": 18,
   "id": "428393c5-b3d8-4245-bb45-32d1a5194fb7",
   "metadata": {},
   "outputs": [
    {
     "data": {
      "text/plain": [
       "<function __main__.replaces(dataset, descriptive, Outliers)>"
      ]
     },
     "execution_count": 18,
     "metadata": {},
     "output_type": "execute_result"
    }
   ],
   "source": [
    "replaces"
   ]
  },
  {
   "cell_type": "code",
   "execution_count": null,
   "id": "be3dbbf1-580a-41ab-b8a8-542c5bcffe8d",
   "metadata": {},
   "outputs": [],
   "source": [
    "descriptive"
   ]
  },
  {
   "cell_type": "code",
   "execution_count": null,
   "id": "1ac6d349-18b4-43e9-9b8c-03f71ea13463",
   "metadata": {},
   "outputs": [],
   "source": [
    "descriptive"
   ]
  },
  {
   "cell_type": "code",
   "execution_count": null,
   "id": "179f07e2-6a54-482f-9f2d-12a35390741f",
   "metadata": {},
   "outputs": [],
   "source": []
  },
  {
   "cell_type": "code",
   "execution_count": null,
   "id": "262d631d-1f8f-4ccc-b391-2bf8112c82ec",
   "metadata": {},
   "outputs": [],
   "source": []
  },
  {
   "cell_type": "code",
   "execution_count": null,
   "id": "6af7ac64-d967-4646-886a-715b81f4b9c4",
   "metadata": {},
   "outputs": [],
   "source": []
  },
  {
   "cell_type": "code",
   "execution_count": null,
   "id": "a938eb2b-c3f7-47fc-a985-e42234cedda8",
   "metadata": {},
   "outputs": [],
   "source": [
    "descriptive"
   ]
  },
  {
   "cell_type": "code",
   "execution_count": null,
   "id": "73d0e705-9011-414c-baf2-eb44332de7dd",
   "metadata": {},
   "outputs": [],
   "source": [
    "Outliers"
   ]
  },
  {
   "cell_type": "code",
   "execution_count": null,
   "id": "8928c34c-21a9-41cc-894a-75e139074b2a",
   "metadata": {},
   "outputs": [],
   "source": [
    "def freqTable(columnName,dataset):\n",
    "    freqTable=pd.DataFrame(columns=[\"Unique_Value\",\"Frequency\",\"Relative_Frequency\",\"Cumsum\"])\n",
    "    freqTable[\"Unique_Value\"]=dataset[columnName].value_counts().index\n",
    "    freqTable[\"Frequency\"]=dataset[columnName].value_counts().values\n",
    "    freqTable[\"Relative_Frequency\"]=freqTable[\"Frequency\"]/103\n",
    "    freqTable[\"Cumsum\"]=freqTable[\"Relative_Frequency\"].cumsum()\n",
    "    return freqTable\n",
    "\n"
   ]
  },
  {
   "cell_type": "code",
   "execution_count": null,
   "id": "cba4f1a5-c994-404c-b8db-e4bfaa66100b",
   "metadata": {},
   "outputs": [],
   "source": [
    "FreqTable(\"ssc_p\",dataset)"
   ]
  },
  {
   "cell_type": "code",
   "execution_count": null,
   "id": "a5b3ec9d-d18b-4cf3-a334-699fac42ccde",
   "metadata": {},
   "outputs": [],
   "source": [
    "from datafile import datavalidation"
   ]
  },
  {
   "cell_type": "code",
   "execution_count": null,
   "id": "4f943804-bc5e-4796-aec0-45903fc1e682",
   "metadata": {},
   "outputs": [],
   "source": [
    "qual,quan=datavalidation.QualQuan(dataset)"
   ]
  },
  {
   "cell_type": "code",
   "execution_count": null,
   "id": "02a06d85-f69a-4d68-b294-02b7de168e8e",
   "metadata": {},
   "outputs": [],
   "source": [
    "quan"
   ]
  },
  {
   "cell_type": "code",
   "execution_count": null,
   "id": "b0d55bf0-a77d-4d20-98bd-b5fbe0763513",
   "metadata": {},
   "outputs": [],
   "source": [
    "descriptive=datavalidation.univariate(dataset,quan)"
   ]
  },
  {
   "cell_type": "code",
   "execution_count": null,
   "id": "494d17ab-7553-4b20-8dac-ac2f708cca09",
   "metadata": {},
   "outputs": [],
   "source": [
    "descriptive"
   ]
  },
  {
   "cell_type": "code",
   "execution_count": null,
   "id": "289b19ba-a2d2-4949-af25-f652d081c810",
   "metadata": {},
   "outputs": [],
   "source": [
    "quan"
   ]
  },
  {
   "cell_type": "code",
   "execution_count": null,
   "id": "c6841382-a7b6-49a3-b463-b6808667cefb",
   "metadata": {},
   "outputs": [],
   "source": [
    "def find_outliers():\n",
    "    outliers = []  # Use lowercase for variables to differentiate from the function name\n",
    "    for column_name in quan:\n",
    "        column_data = descriptive[column_name]  # Access dictionary once\n",
    "        if column_data[\"Min\"] < column_data[\"LesserOutlier\"]:\n",
    "            outliers.append(column_name)\n",
    "        if column_data[\"Max\"] > column_data[\"GreaterOutlier\"]:\n",
    "            outliers.append(column_name)\n",
    "    return outliers\n",
    "\n",
    "# Call the function\n",
    "outliers = find_outliers()"
   ]
  },
  {
   "cell_type": "code",
   "execution_count": null,
   "id": "d30cd7c0-6c84-4d63-9a7a-e8df65e3ade5",
   "metadata": {},
   "outputs": [],
   "source": [
    "outliers"
   ]
  },
  {
   "cell_type": "code",
   "execution_count": null,
   "id": "f1e991eb-4c55-4c28-9659-2532a347576c",
   "metadata": {},
   "outputs": [],
   "source": [
    "def replace_outlier(dataset, outliers):\n",
    "    for column_name in outliers:\n",
    "        column_data = outliers[column_name]\n",
    "        \n",
    "        # Replace values below LesserOutlier\n",
    "        dataset[column_name][dataset[column_name] < column_data[\"LesserOutlier\"]] = column_data[\"LesserOutlier\"]\n",
    "        \n",
    "        # Replace values above GreaterOutlier\n",
    "        dataset[column_name][dataset[column_name] > column_data[\"GreaterOutlier\"]] = column_data[\"GreaterOutlier\"]\n",
    "    \n",
    "    return dataset\n",
    "\n",
    "# Assuming you have a dataset and outliers defined\n",
    "dataset = replace_outlier(dataset, outliers)\n"
   ]
  },
  {
   "cell_type": "code",
   "execution_count": null,
   "id": "0adf5980-3fa6-432c-8d04-613cbd1056de",
   "metadata": {},
   "outputs": [],
   "source": []
  },
  {
   "cell_type": "markdown",
   "id": "6c19deb9-736b-490e-b006-d6a44bf5742d",
   "metadata": {},
   "source": [
    "def Outliers():\n",
    "    Outliers = []\n",
    "    for columnName in quan:\n",
    "        if descriptive[columnName][\"Min\"] < descriptive[columnName][\"LesserOutlier\"]:\n",
    "            Outliers.append(columnName)\n",
    "        if descriptive[columnName][\"Max\"] > descriptive[columnName][\"GreaterOutlier\"]:\n",
    "            Outliers.append(columnName)\n",
    "    return Outliers\n",
    "\n",
    "Outliers = Outliers()"
   ]
  },
  {
   "cell_type": "code",
   "execution_count": null,
   "id": "a150b681-dcd0-421e-a68d-df558df19241",
   "metadata": {},
   "outputs": [],
   "source": [
    "Outliers"
   ]
  },
  {
   "cell_type": "markdown",
   "id": "c1225250-e6c1-4246-b478-c5cdfc24373d",
   "metadata": {},
   "source": [
    "def replaceoutlier(columnName,Outliers):\n",
    "    for columnName in Outliers:\n",
    "        column_data=descriptive[columnName]\n",
    "        dataset[columnName][dataset[columnName]<column_data[\"LesserOutlier\"]]=column_data[\"LesserOutlier\"]\n",
    "        dataset[columnName][dataset[columnName]>column_data[\"GreaterOutlier\"]]=column_data[\"GreaterOutlier\"]\n",
    "        return replaceoutlier\n",
    "\n",
    "replaceoutlier=replaceoutlier(columnName,Outliers)"
   ]
  },
  {
   "cell_type": "code",
   "execution_count": null,
   "id": "3912bac7-a7c6-4fae-b246-1c89cd45cc0a",
   "metadata": {},
   "outputs": [],
   "source": [
    "def replace_outlier(dataset, outliers):\n",
    "    for column_name in outliers:\n",
    "        column_data = outliers[column_name]\n",
    "        \n",
    "        # Replace values below LesserOutlier\n",
    "        dataset[column_name][dataset[column_name] < column_data[\"LesserOutlier\"]] = column_data[\"LesserOutlier\"]\n",
    "        \n",
    "        # Replace values above GreaterOutlier\n",
    "        dataset[column_name][dataset[column_name] > column_data[\"GreaterOutlier\"]] = column_data[\"GreaterOutlier\"]\n",
    "    \n",
    "    return dataset,outliers\n",
    "\n",
    "# Assuming you have a dataset and outliers defined\n",
    "dataset = replace_outlier(dataset, Outliers)\n"
   ]
  },
  {
   "cell_type": "code",
   "execution_count": null,
   "id": "66124412-53d9-4bf6-9461-31ef5307756c",
   "metadata": {},
   "outputs": [],
   "source": [
    "outliers"
   ]
  },
  {
   "cell_type": "code",
   "execution_count": null,
   "id": "e7d84e2a-cac5-472c-a087-6c6d4143b868",
   "metadata": {},
   "outputs": [],
   "source": []
  },
  {
   "cell_type": "code",
   "execution_count": null,
   "id": "9c7e7409-6d48-4738-b93a-75007eb7562f",
   "metadata": {},
   "outputs": [],
   "source": [
    "Outliers=datavalidation.Outliers(columnName,quan)"
   ]
  },
  {
   "cell_type": "code",
   "execution_count": null,
   "id": "9086a182-1ecb-4d67-bc5d-5ab6ca79bc51",
   "metadata": {},
   "outputs": [],
   "source": [
    "Outliers"
   ]
  },
  {
   "cell_type": "code",
   "execution_count": null,
   "id": "475caf85-ced9-401b-ac47-6eba6f40bf8b",
   "metadata": {},
   "outputs": [],
   "source": [
    "def replaceoutlier():\n",
    "    for columnName in Outliers:\n",
    "        dataset[columnName][dataset[columnName]<descriptive[columnName][\"LesserOutlier\"]]=descriptive[columnName][\"LesserOutlier\"]\n",
    "        dataset[columnName][dataset[columnName]>descriptive[columnName][\"GreaterOutlier\"]]=descriptive[columnName][\"GreaterOutlier\"]\n",
    "        return replaceoutlier\n",
    "\n",
    "replaceoutlier=replaceoutlier()"
   ]
  },
  {
   "cell_type": "code",
   "execution_count": null,
   "id": "b92e87a8-71a6-4125-b615-817d014ab17a",
   "metadata": {},
   "outputs": [],
   "source": [
    "replaceoutlier(columnName,Outliers)"
   ]
  },
  {
   "cell_type": "code",
   "execution_count": null,
   "id": "e2b4f137-1a0e-42bb-83c9-86229e207f67",
   "metadata": {},
   "outputs": [],
   "source": [
    "descriptive"
   ]
  },
  {
   "cell_type": "code",
   "execution_count": null,
   "id": "64893c2d-9513-46c5-81db-c3d08a82e84d",
   "metadata": {},
   "outputs": [],
   "source": []
  },
  {
   "cell_type": "code",
   "execution_count": null,
   "id": "4e35a264-1291-4e09-aa23-41d266dd6d9e",
   "metadata": {},
   "outputs": [],
   "source": [
    "descriptive[columnName][\"Q4:100%\"]descriptive[columnName][\"GreaterOutlier\"]<"
   ]
  },
  {
   "cell_type": "code",
   "execution_count": null,
   "id": "e121f687-3d5f-4513-b0a5-01dec52a85e8",
   "metadata": {},
   "outputs": [],
   "source": [
    "dataset.describe()"
   ]
  },
  {
   "cell_type": "code",
   "execution_count": null,
   "id": "7985dacc-62b4-4bf2-a8e8-92a31037985e",
   "metadata": {},
   "outputs": [],
   "source": [
    "descriptive"
   ]
  },
  {
   "cell_type": "code",
   "execution_count": null,
   "id": "d4c4d5b1-85e5-4441-afaf-b0643420eca3",
   "metadata": {},
   "outputs": [],
   "source": [
    "def univariate(dataset,quan):\n",
    "    descriptive=pd.DataFrame(columns=quan,index=[\"Mean\",\"Median\",\"Mode\",\"Q1:25%\",\"Q2:50%\",\"Q3:75%\",\"90%\",\"Q4:100%\",\"IQR\",\"1.5Rule\",\n",
    "                                                     \"LesserOutlier\",\"GreaterOutlier\",\"Min\",\"Max\"])\n",
    "    for columnName in quan:\n",
    "        descriptive[columnName][\"Mean\"]=dataset[columnName].mean()\n",
    "        descriptive[columnName][\"Median\"]=dataset[columnName].median()\n",
    "        descriptive[columnName][\"Mode\"]=dataset[columnName].mode()[0]\n",
    "        descriptive[columnName][\"Q1:25%\"]=dataset.describe()[columnName][\"25%\"]\n",
    "        descriptive[columnName][\"Q2:50%\"]=dataset.describe()[columnName][\"50%\"]\n",
    "        descriptive[columnName][\"Q3:75%\"]=dataset.describe()[columnName][\"75%\"]\n",
    "        descriptive[columnName][\"90%\"]=np.percentile(dataset[columnName],90)\n",
    "        descriptive[columnName][\"Q4:100%\"]=dataset.describe()[columnName][\"max\"]\n",
    "        descriptive[columnName][\"Min\"]=dataset[columnName].min()\n",
    "        descriptive[columnName][\"Max\"]=dataset[columnName].max()\n",
    "        descriptive[columnName][\"IQR\"]=descriptive[columnName][\"Q3:75%\"]-descriptive[columnName][\"Q1:25%\"]\n",
    "        descriptive[columnName][\"1.5Rule\"]=1.5*(descriptive[columnName][\"IQR\"])\n",
    "        descriptive[columnName][\"LesserOutlier\"]=descriptive[columnName][\"Q1:25%\"]-descriptive[columnName][\"1.5Rule\"]\n",
    "        descriptive[columnName][\"GreaterOutlier\"]=descriptive[columnName][\"Q3:75%\"]+descriptive[columnName][\"1.5Rule\"]\n",
    "    return descriptive"
   ]
  },
  {
   "cell_type": "code",
   "execution_count": null,
   "id": "af753f06-8df2-4794-a35d-70a07b439d89",
   "metadata": {},
   "outputs": [],
   "source": [
    "univariate(dataset,quan)"
   ]
  },
  {
   "cell_type": "code",
   "execution_count": null,
   "id": "71a31b32-5fd6-463d-bfbe-2d9421924640",
   "metadata": {},
   "outputs": [],
   "source": [
    "descriptive"
   ]
  },
  {
   "cell_type": "code",
   "execution_count": null,
   "id": "02415cca-f318-4105-80ac-c1885fea6fe8",
   "metadata": {},
   "outputs": [],
   "source": []
  }
 ],
 "metadata": {
  "kernelspec": {
   "display_name": "Python 3 (ipykernel)",
   "language": "python",
   "name": "python3"
  },
  "language_info": {
   "codemirror_mode": {
    "name": "ipython",
    "version": 3
   },
   "file_extension": ".py",
   "mimetype": "text/x-python",
   "name": "python",
   "nbconvert_exporter": "python",
   "pygments_lexer": "ipython3",
   "version": "3.11.11"
  }
 },
 "nbformat": 4,
 "nbformat_minor": 5
}
